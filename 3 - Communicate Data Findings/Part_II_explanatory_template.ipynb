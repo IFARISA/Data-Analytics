{
 "cells": [
  {
   "cell_type": "markdown",
   "metadata": {},
   "source": [
    "# Part II - (Bike Trip)\n",
    "## by (FARIS ALMUQBIL)"
   ]
  },
  {
   "cell_type": "markdown",
   "metadata": {},
   "source": [
    "## Investigation Overview\n",
    "\n",
    "\n",
    "> Overall goals of my presentation is focus on results of the dataset and find insight of the data and find interest of how age, gender, and time use of the bike.\n",
    "\n",
    "\n",
    "## Dataset Overview and Executive Summary\n",
    "\n",
    "> The dataset contains detailed records of bike-sharing trips, It includes information such as trip duration, station locations, user demographics, and travel patterns. The data has 171,234 entries and 20 columns, providing a rich source for analysis."
   ]
  },
  {
   "cell_type": "code",
   "metadata": {
    "ExecuteTime": {
     "end_time": "2025-01-03T17:53:38.571620Z",
     "start_time": "2025-01-03T17:53:38.565475Z"
    }
   },
   "source": [
    "# import all packages and set plots to be embedded inline\n",
    "import numpy as np\n",
    "import pandas as pd\n",
    "import matplotlib.pyplot as plt\n",
    "import seaborn as sns\n",
    "\n",
    "# suppress warnings from final output\n",
    "import warnings\n",
    "warnings.simplefilter(\"ignore\")"
   ],
   "outputs": [],
   "execution_count": 1
  },
  {
   "cell_type": "code",
   "metadata": {
    "ExecuteTime": {
     "end_time": "2025-01-03T17:53:40.254613Z",
     "start_time": "2025-01-03T17:53:39.580143Z"
    }
   },
   "source": [
    "# load in the dataset into a pandas dataframe\n",
    "def load_data(filepath):\n",
    "    return pd.read_csv(filepath)\n",
    "file = 'ford_bike_new.csv'\n",
    "df = load_data(file)"
   ],
   "outputs": [],
   "execution_count": 2
  },
  {
   "metadata": {
    "ExecuteTime": {
     "end_time": "2025-01-03T17:53:41.215822Z",
     "start_time": "2025-01-03T17:53:41.207190Z"
    }
   },
   "cell_type": "code",
   "source": [
    "def dataframe_info(df):\n",
    "    print(\"=\" * 40)\n",
    "    print(\"DataFrame Info:\")\n",
    "    print(\"=\" * 40)\n",
    "    df.info()\n",
    "    print(\"\\nNumber of rows and columns:\", df.shape)\n",
    "    print(\"=\" * 40)"
   ],
   "outputs": [],
   "execution_count": 3
  },
  {
   "metadata": {
    "ExecuteTime": {
     "end_time": "2025-01-03T17:53:42.681895Z",
     "start_time": "2025-01-03T17:53:42.611060Z"
    }
   },
   "cell_type": "code",
   "source": [
    "# check for data name and data type\n",
    "dataframe_info(df)"
   ],
   "outputs": [
    {
     "name": "stdout",
     "output_type": "stream",
     "text": [
      "========================================\n",
      "DataFrame Info:\n",
      "========================================\n",
      "<class 'pandas.core.frame.DataFrame'>\n",
      "RangeIndex: 171234 entries, 0 to 171233\n",
      "Data columns (total 20 columns):\n",
      " #   Column                   Non-Null Count   Dtype  \n",
      "---  ------                   --------------   -----  \n",
      " 0   duration_sec             171234 non-null  int64  \n",
      " 1   start_time               171234 non-null  object \n",
      " 2   end_time                 171234 non-null  object \n",
      " 3   start_station_id         171234 non-null  float64\n",
      " 4   start_station_name       171234 non-null  object \n",
      " 5   start_station_latitude   171234 non-null  float64\n",
      " 6   start_station_longitude  171234 non-null  float64\n",
      " 7   end_station_id           171234 non-null  float64\n",
      " 8   end_station_name         171234 non-null  object \n",
      " 9   end_station_latitude     171234 non-null  float64\n",
      " 10  end_station_longitude    171234 non-null  float64\n",
      " 11  bike_id                  171234 non-null  int64  \n",
      " 12  user_type                171234 non-null  object \n",
      " 13  member_birth_year        171234 non-null  float64\n",
      " 14  member_gender            171234 non-null  object \n",
      " 15  bike_share_for_all_trip  171234 non-null  object \n",
      " 16  age                      171234 non-null  float64\n",
      " 17  age_group                171234 non-null  object \n",
      " 18  start_hour               171234 non-null  int64  \n",
      " 19  start_day                171234 non-null  object \n",
      "dtypes: float64(8), int64(3), object(9)\n",
      "memory usage: 26.1+ MB\n",
      "\n",
      "Number of rows and columns: (171234, 20)\n",
      "========================================\n"
     ]
    }
   ],
   "execution_count": 4
  },
  {
   "metadata": {
    "ExecuteTime": {
     "end_time": "2025-01-03T17:53:44.124741Z",
     "start_time": "2025-01-03T17:53:43.967174Z"
    }
   },
   "cell_type": "code",
   "source": [
    "# descriptive statistics for numeric variables\n",
    "df.describe()"
   ],
   "outputs": [
    {
     "data": {
      "text/plain": [
       "        duration_sec  start_station_id  start_station_latitude  \\\n",
       "count  171234.000000     171234.000000           171234.000000   \n",
       "mean      697.775559        138.682388               37.770616   \n",
       "std      1577.550958        111.702181                0.101242   \n",
       "min        61.000000          3.000000               37.317298   \n",
       "25%       322.250000         47.000000               37.770083   \n",
       "50%       509.000000        104.000000               37.780760   \n",
       "75%       787.000000        239.000000               37.797280   \n",
       "max     84548.000000        398.000000               37.880222   \n",
       "\n",
       "       start_station_longitude  end_station_id  end_station_latitude  \\\n",
       "count            171234.000000   171234.000000         171234.000000   \n",
       "mean               -122.351656      136.303672             37.770817   \n",
       "std                   0.118536      111.418601              0.101147   \n",
       "min                -122.453704        3.000000             37.317298   \n",
       "25%                -122.411901       44.000000             37.770407   \n",
       "50%                -122.398279      100.000000             37.781010   \n",
       "75%                -122.283127      237.000000             37.797320   \n",
       "max                -121.874119      398.000000             37.880222   \n",
       "\n",
       "       end_station_longitude        bike_id  member_birth_year            age  \\\n",
       "count          171234.000000  171234.000000      171234.000000  171234.000000   \n",
       "mean             -122.351226    4481.259376        1984.874493      35.125507   \n",
       "std                 0.118103    1659.530606           9.969689       9.969689   \n",
       "min              -122.453704      11.000000        1920.000000      19.000000   \n",
       "25%              -122.411647    3796.000000        1980.000000      28.000000   \n",
       "50%              -122.397437    4960.000000        1987.000000      33.000000   \n",
       "75%              -122.287610    5505.000000        1992.000000      40.000000   \n",
       "max              -121.874119    6645.000000        2001.000000     100.000000   \n",
       "\n",
       "          start_hour  \n",
       "count  171234.000000  \n",
       "mean       13.451587  \n",
       "std         4.733841  \n",
       "min         0.000000  \n",
       "25%         9.000000  \n",
       "50%        14.000000  \n",
       "75%        17.000000  \n",
       "max        23.000000  "
      ],
      "text/html": [
       "<div>\n",
       "<style scoped>\n",
       "    .dataframe tbody tr th:only-of-type {\n",
       "        vertical-align: middle;\n",
       "    }\n",
       "\n",
       "    .dataframe tbody tr th {\n",
       "        vertical-align: top;\n",
       "    }\n",
       "\n",
       "    .dataframe thead th {\n",
       "        text-align: right;\n",
       "    }\n",
       "</style>\n",
       "<table border=\"1\" class=\"dataframe\">\n",
       "  <thead>\n",
       "    <tr style=\"text-align: right;\">\n",
       "      <th></th>\n",
       "      <th>duration_sec</th>\n",
       "      <th>start_station_id</th>\n",
       "      <th>start_station_latitude</th>\n",
       "      <th>start_station_longitude</th>\n",
       "      <th>end_station_id</th>\n",
       "      <th>end_station_latitude</th>\n",
       "      <th>end_station_longitude</th>\n",
       "      <th>bike_id</th>\n",
       "      <th>member_birth_year</th>\n",
       "      <th>age</th>\n",
       "      <th>start_hour</th>\n",
       "    </tr>\n",
       "  </thead>\n",
       "  <tbody>\n",
       "    <tr>\n",
       "      <th>count</th>\n",
       "      <td>171234.000000</td>\n",
       "      <td>171234.000000</td>\n",
       "      <td>171234.000000</td>\n",
       "      <td>171234.000000</td>\n",
       "      <td>171234.000000</td>\n",
       "      <td>171234.000000</td>\n",
       "      <td>171234.000000</td>\n",
       "      <td>171234.000000</td>\n",
       "      <td>171234.000000</td>\n",
       "      <td>171234.000000</td>\n",
       "      <td>171234.000000</td>\n",
       "    </tr>\n",
       "    <tr>\n",
       "      <th>mean</th>\n",
       "      <td>697.775559</td>\n",
       "      <td>138.682388</td>\n",
       "      <td>37.770616</td>\n",
       "      <td>-122.351656</td>\n",
       "      <td>136.303672</td>\n",
       "      <td>37.770817</td>\n",
       "      <td>-122.351226</td>\n",
       "      <td>4481.259376</td>\n",
       "      <td>1984.874493</td>\n",
       "      <td>35.125507</td>\n",
       "      <td>13.451587</td>\n",
       "    </tr>\n",
       "    <tr>\n",
       "      <th>std</th>\n",
       "      <td>1577.550958</td>\n",
       "      <td>111.702181</td>\n",
       "      <td>0.101242</td>\n",
       "      <td>0.118536</td>\n",
       "      <td>111.418601</td>\n",
       "      <td>0.101147</td>\n",
       "      <td>0.118103</td>\n",
       "      <td>1659.530606</td>\n",
       "      <td>9.969689</td>\n",
       "      <td>9.969689</td>\n",
       "      <td>4.733841</td>\n",
       "    </tr>\n",
       "    <tr>\n",
       "      <th>min</th>\n",
       "      <td>61.000000</td>\n",
       "      <td>3.000000</td>\n",
       "      <td>37.317298</td>\n",
       "      <td>-122.453704</td>\n",
       "      <td>3.000000</td>\n",
       "      <td>37.317298</td>\n",
       "      <td>-122.453704</td>\n",
       "      <td>11.000000</td>\n",
       "      <td>1920.000000</td>\n",
       "      <td>19.000000</td>\n",
       "      <td>0.000000</td>\n",
       "    </tr>\n",
       "    <tr>\n",
       "      <th>25%</th>\n",
       "      <td>322.250000</td>\n",
       "      <td>47.000000</td>\n",
       "      <td>37.770083</td>\n",
       "      <td>-122.411901</td>\n",
       "      <td>44.000000</td>\n",
       "      <td>37.770407</td>\n",
       "      <td>-122.411647</td>\n",
       "      <td>3796.000000</td>\n",
       "      <td>1980.000000</td>\n",
       "      <td>28.000000</td>\n",
       "      <td>9.000000</td>\n",
       "    </tr>\n",
       "    <tr>\n",
       "      <th>50%</th>\n",
       "      <td>509.000000</td>\n",
       "      <td>104.000000</td>\n",
       "      <td>37.780760</td>\n",
       "      <td>-122.398279</td>\n",
       "      <td>100.000000</td>\n",
       "      <td>37.781010</td>\n",
       "      <td>-122.397437</td>\n",
       "      <td>4960.000000</td>\n",
       "      <td>1987.000000</td>\n",
       "      <td>33.000000</td>\n",
       "      <td>14.000000</td>\n",
       "    </tr>\n",
       "    <tr>\n",
       "      <th>75%</th>\n",
       "      <td>787.000000</td>\n",
       "      <td>239.000000</td>\n",
       "      <td>37.797280</td>\n",
       "      <td>-122.283127</td>\n",
       "      <td>237.000000</td>\n",
       "      <td>37.797320</td>\n",
       "      <td>-122.287610</td>\n",
       "      <td>5505.000000</td>\n",
       "      <td>1992.000000</td>\n",
       "      <td>40.000000</td>\n",
       "      <td>17.000000</td>\n",
       "    </tr>\n",
       "    <tr>\n",
       "      <th>max</th>\n",
       "      <td>84548.000000</td>\n",
       "      <td>398.000000</td>\n",
       "      <td>37.880222</td>\n",
       "      <td>-121.874119</td>\n",
       "      <td>398.000000</td>\n",
       "      <td>37.880222</td>\n",
       "      <td>-121.874119</td>\n",
       "      <td>6645.000000</td>\n",
       "      <td>2001.000000</td>\n",
       "      <td>100.000000</td>\n",
       "      <td>23.000000</td>\n",
       "    </tr>\n",
       "  </tbody>\n",
       "</table>\n",
       "</div>"
      ]
     },
     "execution_count": 5,
     "metadata": {},
     "output_type": "execute_result"
    }
   ],
   "execution_count": 5
  },
  {
   "metadata": {
    "ExecuteTime": {
     "end_time": "2025-01-03T17:53:45.426638Z",
     "start_time": "2025-01-03T17:53:45.361395Z"
    }
   },
   "cell_type": "code",
   "source": [
    "# check for null values\n",
    "df.isnull().sum()"
   ],
   "outputs": [
    {
     "data": {
      "text/plain": [
       "duration_sec               0\n",
       "start_time                 0\n",
       "end_time                   0\n",
       "start_station_id           0\n",
       "start_station_name         0\n",
       "start_station_latitude     0\n",
       "start_station_longitude    0\n",
       "end_station_id             0\n",
       "end_station_name           0\n",
       "end_station_latitude       0\n",
       "end_station_longitude      0\n",
       "bike_id                    0\n",
       "user_type                  0\n",
       "member_birth_year          0\n",
       "member_gender              0\n",
       "bike_share_for_all_trip    0\n",
       "age                        0\n",
       "age_group                  0\n",
       "start_hour                 0\n",
       "start_day                  0\n",
       "dtype: int64"
      ]
     },
     "execution_count": 6,
     "metadata": {},
     "output_type": "execute_result"
    }
   ],
   "execution_count": 6
  },
  {
   "metadata": {
    "ExecuteTime": {
     "end_time": "2025-01-03T17:53:47.095809Z",
     "start_time": "2025-01-03T17:53:46.867282Z"
    }
   },
   "cell_type": "code",
   "source": [
    "# check for duplicated values\n",
    "df.duplicated().sum()"
   ],
   "outputs": [
    {
     "data": {
      "text/plain": [
       "0"
      ]
     },
     "execution_count": 7,
     "metadata": {},
     "output_type": "execute_result"
    }
   ],
   "execution_count": 7
  },
  {
   "metadata": {
    "ExecuteTime": {
     "end_time": "2025-01-03T17:53:48.127551Z",
     "start_time": "2025-01-03T17:53:47.957347Z"
    }
   },
   "cell_type": "code",
   "source": [
    "# Change data type\n",
    "# duration_sec to int32\n",
    "df['duration_sec'] = df['duration_sec'].astype('int32')\n",
    "# start_time and end_time columns to datetime\n",
    "df['start_time'] = pd.to_datetime(df['start_time'])\n",
    "df['end_time'] = pd.to_datetime(df['end_time'])\n",
    "# bike_id column to int16\n",
    "df['bike_id'] = df['bike_id'].astype('int16')"
   ],
   "outputs": [],
   "execution_count": 8
  },
  {
   "metadata": {
    "ExecuteTime": {
     "end_time": "2025-01-03T17:53:49.332169Z",
     "start_time": "2025-01-03T17:53:49.270894Z"
    }
   },
   "cell_type": "code",
   "source": [
    "# check for data name and data type\n",
    "dataframe_info(df)"
   ],
   "outputs": [
    {
     "name": "stdout",
     "output_type": "stream",
     "text": [
      "========================================\n",
      "DataFrame Info:\n",
      "========================================\n",
      "<class 'pandas.core.frame.DataFrame'>\n",
      "RangeIndex: 171234 entries, 0 to 171233\n",
      "Data columns (total 20 columns):\n",
      " #   Column                   Non-Null Count   Dtype         \n",
      "---  ------                   --------------   -----         \n",
      " 0   duration_sec             171234 non-null  int32         \n",
      " 1   start_time               171234 non-null  datetime64[ns]\n",
      " 2   end_time                 171234 non-null  datetime64[ns]\n",
      " 3   start_station_id         171234 non-null  float64       \n",
      " 4   start_station_name       171234 non-null  object        \n",
      " 5   start_station_latitude   171234 non-null  float64       \n",
      " 6   start_station_longitude  171234 non-null  float64       \n",
      " 7   end_station_id           171234 non-null  float64       \n",
      " 8   end_station_name         171234 non-null  object        \n",
      " 9   end_station_latitude     171234 non-null  float64       \n",
      " 10  end_station_longitude    171234 non-null  float64       \n",
      " 11  bike_id                  171234 non-null  int16         \n",
      " 12  user_type                171234 non-null  object        \n",
      " 13  member_birth_year        171234 non-null  float64       \n",
      " 14  member_gender            171234 non-null  object        \n",
      " 15  bike_share_for_all_trip  171234 non-null  object        \n",
      " 16  age                      171234 non-null  float64       \n",
      " 17  age_group                171234 non-null  object        \n",
      " 18  start_hour               171234 non-null  int64         \n",
      " 19  start_day                171234 non-null  object        \n",
      "dtypes: datetime64[ns](2), float64(8), int16(1), int32(1), int64(1), object(7)\n",
      "memory usage: 24.5+ MB\n",
      "\n",
      "Number of rows and columns: (171234, 20)\n",
      "========================================\n"
     ]
    }
   ],
   "execution_count": 9
  },
  {
   "metadata": {
    "ExecuteTime": {
     "end_time": "2025-01-03T17:53:50.492376Z",
     "start_time": "2025-01-03T17:53:50.480429Z"
    }
   },
   "cell_type": "code",
   "source": [
    "# check the result before move\n",
    "df[['duration_sec', 'start_time', 'end_time', 'bike_id']].dtypes"
   ],
   "outputs": [
    {
     "data": {
      "text/plain": [
       "duration_sec             int32\n",
       "start_time      datetime64[ns]\n",
       "end_time        datetime64[ns]\n",
       "bike_id                  int16\n",
       "dtype: object"
      ]
     },
     "execution_count": 10,
     "metadata": {},
     "output_type": "execute_result"
    }
   ],
   "execution_count": 10
  },
  {
   "metadata": {
    "ExecuteTime": {
     "end_time": "2025-01-03T17:53:52.398681Z",
     "start_time": "2025-01-03T17:53:52.259753Z"
    }
   },
   "cell_type": "code",
   "source": [
    "# descriptive statistics for numeric variables\n",
    "df.describe()"
   ],
   "outputs": [
    {
     "data": {
      "text/plain": [
       "        duration_sec                     start_time  \\\n",
       "count  171234.000000                         171234   \n",
       "mean      697.775559  2019-02-15 21:23:18.418575360   \n",
       "min        61.000000     2019-02-01 00:00:20.636000   \n",
       "25%       322.250000  2019-02-08 08:29:10.248999936   \n",
       "50%       509.000000  2019-02-15 22:15:42.629000192   \n",
       "75%       787.000000  2019-02-22 11:19:05.106000128   \n",
       "max     84548.000000     2019-02-28 23:59:18.548000   \n",
       "std      1577.550958                            NaN   \n",
       "\n",
       "                            end_time  start_station_id  \\\n",
       "count                         171234     171234.000000   \n",
       "mean   2019-02-15 21:34:56.693093376        138.682388   \n",
       "min       2019-02-01 00:04:52.058000          3.000000   \n",
       "25%       2019-02-08 08:39:36.504000         47.000000   \n",
       "50%       2019-02-15 22:29:58.956000        104.000000   \n",
       "75%    2019-02-22 11:33:05.178749952        239.000000   \n",
       "max       2019-03-01 08:01:55.975000        398.000000   \n",
       "std                              NaN        111.702181   \n",
       "\n",
       "       start_station_latitude  start_station_longitude  end_station_id  \\\n",
       "count           171234.000000            171234.000000   171234.000000   \n",
       "mean                37.770616              -122.351656      136.303672   \n",
       "min                 37.317298              -122.453704        3.000000   \n",
       "25%                 37.770083              -122.411901       44.000000   \n",
       "50%                 37.780760              -122.398279      100.000000   \n",
       "75%                 37.797280              -122.283127      237.000000   \n",
       "max                 37.880222              -121.874119      398.000000   \n",
       "std                  0.101242                 0.118536      111.418601   \n",
       "\n",
       "       end_station_latitude  end_station_longitude        bike_id  \\\n",
       "count         171234.000000          171234.000000  171234.000000   \n",
       "mean              37.770817            -122.351226    4481.259376   \n",
       "min               37.317298            -122.453704      11.000000   \n",
       "25%               37.770407            -122.411647    3796.000000   \n",
       "50%               37.781010            -122.397437    4960.000000   \n",
       "75%               37.797320            -122.287610    5505.000000   \n",
       "max               37.880222            -121.874119    6645.000000   \n",
       "std                0.101147               0.118103    1659.530606   \n",
       "\n",
       "       member_birth_year            age     start_hour  \n",
       "count      171234.000000  171234.000000  171234.000000  \n",
       "mean         1984.874493      35.125507      13.451587  \n",
       "min          1920.000000      19.000000       0.000000  \n",
       "25%          1980.000000      28.000000       9.000000  \n",
       "50%          1987.000000      33.000000      14.000000  \n",
       "75%          1992.000000      40.000000      17.000000  \n",
       "max          2001.000000     100.000000      23.000000  \n",
       "std             9.969689       9.969689       4.733841  "
      ],
      "text/html": [
       "<div>\n",
       "<style scoped>\n",
       "    .dataframe tbody tr th:only-of-type {\n",
       "        vertical-align: middle;\n",
       "    }\n",
       "\n",
       "    .dataframe tbody tr th {\n",
       "        vertical-align: top;\n",
       "    }\n",
       "\n",
       "    .dataframe thead th {\n",
       "        text-align: right;\n",
       "    }\n",
       "</style>\n",
       "<table border=\"1\" class=\"dataframe\">\n",
       "  <thead>\n",
       "    <tr style=\"text-align: right;\">\n",
       "      <th></th>\n",
       "      <th>duration_sec</th>\n",
       "      <th>start_time</th>\n",
       "      <th>end_time</th>\n",
       "      <th>start_station_id</th>\n",
       "      <th>start_station_latitude</th>\n",
       "      <th>start_station_longitude</th>\n",
       "      <th>end_station_id</th>\n",
       "      <th>end_station_latitude</th>\n",
       "      <th>end_station_longitude</th>\n",
       "      <th>bike_id</th>\n",
       "      <th>member_birth_year</th>\n",
       "      <th>age</th>\n",
       "      <th>start_hour</th>\n",
       "    </tr>\n",
       "  </thead>\n",
       "  <tbody>\n",
       "    <tr>\n",
       "      <th>count</th>\n",
       "      <td>171234.000000</td>\n",
       "      <td>171234</td>\n",
       "      <td>171234</td>\n",
       "      <td>171234.000000</td>\n",
       "      <td>171234.000000</td>\n",
       "      <td>171234.000000</td>\n",
       "      <td>171234.000000</td>\n",
       "      <td>171234.000000</td>\n",
       "      <td>171234.000000</td>\n",
       "      <td>171234.000000</td>\n",
       "      <td>171234.000000</td>\n",
       "      <td>171234.000000</td>\n",
       "      <td>171234.000000</td>\n",
       "    </tr>\n",
       "    <tr>\n",
       "      <th>mean</th>\n",
       "      <td>697.775559</td>\n",
       "      <td>2019-02-15 21:23:18.418575360</td>\n",
       "      <td>2019-02-15 21:34:56.693093376</td>\n",
       "      <td>138.682388</td>\n",
       "      <td>37.770616</td>\n",
       "      <td>-122.351656</td>\n",
       "      <td>136.303672</td>\n",
       "      <td>37.770817</td>\n",
       "      <td>-122.351226</td>\n",
       "      <td>4481.259376</td>\n",
       "      <td>1984.874493</td>\n",
       "      <td>35.125507</td>\n",
       "      <td>13.451587</td>\n",
       "    </tr>\n",
       "    <tr>\n",
       "      <th>min</th>\n",
       "      <td>61.000000</td>\n",
       "      <td>2019-02-01 00:00:20.636000</td>\n",
       "      <td>2019-02-01 00:04:52.058000</td>\n",
       "      <td>3.000000</td>\n",
       "      <td>37.317298</td>\n",
       "      <td>-122.453704</td>\n",
       "      <td>3.000000</td>\n",
       "      <td>37.317298</td>\n",
       "      <td>-122.453704</td>\n",
       "      <td>11.000000</td>\n",
       "      <td>1920.000000</td>\n",
       "      <td>19.000000</td>\n",
       "      <td>0.000000</td>\n",
       "    </tr>\n",
       "    <tr>\n",
       "      <th>25%</th>\n",
       "      <td>322.250000</td>\n",
       "      <td>2019-02-08 08:29:10.248999936</td>\n",
       "      <td>2019-02-08 08:39:36.504000</td>\n",
       "      <td>47.000000</td>\n",
       "      <td>37.770083</td>\n",
       "      <td>-122.411901</td>\n",
       "      <td>44.000000</td>\n",
       "      <td>37.770407</td>\n",
       "      <td>-122.411647</td>\n",
       "      <td>3796.000000</td>\n",
       "      <td>1980.000000</td>\n",
       "      <td>28.000000</td>\n",
       "      <td>9.000000</td>\n",
       "    </tr>\n",
       "    <tr>\n",
       "      <th>50%</th>\n",
       "      <td>509.000000</td>\n",
       "      <td>2019-02-15 22:15:42.629000192</td>\n",
       "      <td>2019-02-15 22:29:58.956000</td>\n",
       "      <td>104.000000</td>\n",
       "      <td>37.780760</td>\n",
       "      <td>-122.398279</td>\n",
       "      <td>100.000000</td>\n",
       "      <td>37.781010</td>\n",
       "      <td>-122.397437</td>\n",
       "      <td>4960.000000</td>\n",
       "      <td>1987.000000</td>\n",
       "      <td>33.000000</td>\n",
       "      <td>14.000000</td>\n",
       "    </tr>\n",
       "    <tr>\n",
       "      <th>75%</th>\n",
       "      <td>787.000000</td>\n",
       "      <td>2019-02-22 11:19:05.106000128</td>\n",
       "      <td>2019-02-22 11:33:05.178749952</td>\n",
       "      <td>239.000000</td>\n",
       "      <td>37.797280</td>\n",
       "      <td>-122.283127</td>\n",
       "      <td>237.000000</td>\n",
       "      <td>37.797320</td>\n",
       "      <td>-122.287610</td>\n",
       "      <td>5505.000000</td>\n",
       "      <td>1992.000000</td>\n",
       "      <td>40.000000</td>\n",
       "      <td>17.000000</td>\n",
       "    </tr>\n",
       "    <tr>\n",
       "      <th>max</th>\n",
       "      <td>84548.000000</td>\n",
       "      <td>2019-02-28 23:59:18.548000</td>\n",
       "      <td>2019-03-01 08:01:55.975000</td>\n",
       "      <td>398.000000</td>\n",
       "      <td>37.880222</td>\n",
       "      <td>-121.874119</td>\n",
       "      <td>398.000000</td>\n",
       "      <td>37.880222</td>\n",
       "      <td>-121.874119</td>\n",
       "      <td>6645.000000</td>\n",
       "      <td>2001.000000</td>\n",
       "      <td>100.000000</td>\n",
       "      <td>23.000000</td>\n",
       "    </tr>\n",
       "    <tr>\n",
       "      <th>std</th>\n",
       "      <td>1577.550958</td>\n",
       "      <td>NaN</td>\n",
       "      <td>NaN</td>\n",
       "      <td>111.702181</td>\n",
       "      <td>0.101242</td>\n",
       "      <td>0.118536</td>\n",
       "      <td>111.418601</td>\n",
       "      <td>0.101147</td>\n",
       "      <td>0.118103</td>\n",
       "      <td>1659.530606</td>\n",
       "      <td>9.969689</td>\n",
       "      <td>9.969689</td>\n",
       "      <td>4.733841</td>\n",
       "    </tr>\n",
       "  </tbody>\n",
       "</table>\n",
       "</div>"
      ]
     },
     "execution_count": 11,
     "metadata": {},
     "output_type": "execute_result"
    }
   ],
   "execution_count": 11
  },
  {
   "cell_type": "markdown",
   "metadata": {},
   "source": [
    "## (Most commen daya usage)\n",
    "\n",
    "> In my country, the week starts on Sunday. I see that Sunday has the least bike usage. On Monday and Tuesday, bike usage starts to go up. The highest usage is on Thursday, which is the last workday. During the weekend, bike usage goes down because people do other activities."
   ]
  },
  {
   "cell_type": "code",
   "metadata": {
    "ExecuteTime": {
     "end_time": "2025-01-03T17:53:56.495100Z",
     "start_time": "2025-01-03T17:53:55.946550Z"
    }
   },
   "source": [
    "#custom color palette\n",
    "palette = sns.color_palette(\"Set1\")\n",
    "#plot bike usage by day of the week\n",
    "plt.figure(figsize=(14, 7));\n",
    "sns.countplot(data=df,x='start_day',order=['Sunday' ,'Monday', 'Tuesday', 'Wednesday', 'Thursday', 'Friday', 'Saturday'],\n",
    "    palette=palette);\n",
    "plt.title('Bike usage by day of the week', fontsize=21);\n",
    "plt.xlabel('Day of the week', fontsize=21);\n",
    "plt.ylabel('Trip count', fontsize=21);\n",
    "plt.xticks(fontsize=16, rotation=15);"
   ],
   "outputs": [
    {
     "data": {
      "text/plain": [
       "<Figure size 1400x700 with 1 Axes>"
      ],
      "image/png": "[encoded data removed]"
     },
     "metadata": {},
     "output_type": "display_data"
    }
   ],
   "execution_count": 12
  },
  {
   "cell_type": "markdown",
   "metadata": {},
   "source": [
    "## (Commen gender)\n",
    "\n",
    "> There are 3 times more males than females using bikes. Maybe males can handle bad weather better, but females might not like this difficulty."
   ]
  },
  {
   "cell_type": "code",
   "metadata": {
    "ExecuteTime": {
     "end_time": "2025-01-03T17:53:59.287061Z",
     "start_time": "2025-01-03T17:53:59.076995Z"
    }
   },
   "source": [
    "#percentage for each gender\n",
    "gender_counts = df['member_gender'].value_counts(normalize=True) * 100\n",
    "#color palette\n",
    "palette = sns.color_palette(\"Set2\")\n",
    "plt.figure(figsize=(8, 6))\n",
    "sns.barplot(x=gender_counts.index,y=gender_counts.values,palette=palette)\n",
    "\n",
    "#percentage labels\n",
    "for i, value in enumerate(gender_counts.values):\n",
    "    plt.text(i, value + 1, f'{value:.1f}%', ha='center', fontsize=12)\n",
    "\n",
    "plt.title('Bike Usage by Gender', fontsize=18);\n",
    "plt.xlabel('Gender', fontsize=14);\n",
    "plt.ylabel('Percentage (%)', fontsize=14);\n",
    "plt.ylim(0, gender_counts.max() + 10);"
   ],
   "outputs": [
    {
     "data": {
      "text/plain": [
       "<Figure size 800x600 with 1 Axes>"
      ],
      "image/png": "[encoded data removed]"
     },
     "metadata": {},
     "output_type": "display_data"
    }
   ],
   "execution_count": 13
  },
  {
   "cell_type": "markdown",
   "metadata": {},
   "source": [
    "## (Most age use)\n",
    "\n",
    "> Age between 30-40 are using bike, which is very good while their age has more responsibilities with them families, and age between 18-30 has good number while when go further the number is decreasing until 60 and above."
   ]
  },
  {
   "cell_type": "code",
   "metadata": {
    "ExecuteTime": {
     "end_time": "2025-01-03T17:54:01.975670Z",
     "start_time": "2025-01-03T17:54:01.522923Z"
    }
   },
   "source": [
    "#order based on the available categories in the data\n",
    "correct_age_order = ['18-30', '30-40', '40-50', '50-60', '60+']\n",
    "\n",
    "plt.figure(figsize=(12, 10))\n",
    "sns.countplot(data=df,x='age_group',order=correct_age_order,palette=palette)\n",
    "#total count for percentages\n",
    "total_count = len(df)\n",
    "age_group_counts = df['age_group'].value_counts()\n",
    "\n",
    "#percentage labels\n",
    "for i, age_group in enumerate(correct_age_order):\n",
    "    if age_group in age_group_counts.index:  # Check if the group exists in the data\n",
    "        count = age_group_counts[age_group]\n",
    "        percentage = (count / total_count) * 100\n",
    "        plt.text(i, count + 500, f'{percentage:.1f}%', ha='center', fontsize=12)\n",
    "\n",
    "plt.title('Bike Usage Distribution by Age Group', fontsize=18);\n",
    "plt.xlabel('Age Group', fontsize=14);\n",
    "plt.ylabel('Count', fontsize=14);\n",
    "plt.ylim(0, age_group_counts.max() + 2000);"
   ],
   "outputs": [
    {
     "data": {
      "text/plain": [
       "<Figure size 1200x1000 with 1 Axes>"
      ],
      "image/png": "[encoded data removed]"
     },
     "metadata": {},
     "output_type": "display_data"
    }
   ],
   "execution_count": 14
  },
  {
   "metadata": {
    "ExecuteTime": {
     "end_time": "2025-01-03T17:54:12.023342Z",
     "start_time": "2025-01-03T17:54:08.397333Z"
    }
   },
   "cell_type": "code",
   "source": [
    "# Running this cell will execute a bash command to convert this notebook to an .html file\n",
    "!python -m nbconvert --to html Part_II_explanatory_template.ipynb"
   ],
   "outputs": [
    {
     "name": "stderr",
     "output_type": "stream",
     "text": [
      "[NbConvertApp] Converting notebook Part_II_explanatory_template.ipynb to html\n",
      "[NbConvertApp] WARNING | Alternative text is missing on 3 image(s).\n",
      "[NbConvertApp] Writing 467005 bytes to Part_II_explanatory_template.html\n"
     ]
    }
   ],
   "execution_count": 15
  }
 ],
 "metadata": {
  "kernelspec": {
   "display_name": "Python 3",
   "language": "python",
   "name": "python3"
  },
  "language_info": {
   "codemirror_mode": {
    "name": "ipython",
    "version": 3
   },
   "file_extension": ".py",
   "mimetype": "text/x-python",
   "name": "python",
   "nbconvert_exporter": "python",
   "pygments_lexer": "ipython3",
   "version": "3.6.3"
  }
 },
 "nbformat": 4,
 "nbformat_minor": 2
}
